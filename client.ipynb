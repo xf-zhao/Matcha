{
 "cells": [
  {
   "cell_type": "code",
   "execution_count": null,
   "metadata": {},
   "outputs": [],
   "source": [
    "import requests\n",
    "import json\n",
    "\n",
    "addr = 'http://134.100.10.107:8848/api/sound'\n",
    "\n",
    "# prepare headers for http request\n",
    "content_type = 'application/json'\n",
    "headers = {'content-type': content_type}\n",
    "\n",
    "sound_path = {'sound_path': '/informatik3/wtm/home/zhao/Codes/material_sounds/ceramic/test/Clip_1.wav'}\n",
    "data = json.dumps(sound_path)\n",
    "response = requests.post(addr, data=data, headers=headers)\n",
    "# decode response\n",
    "print(json.loads(response.text))"
   ]
  },
  {
   "cell_type": "code",
   "execution_count": 2,
   "metadata": {},
   "outputs": [
    {
     "data": {
      "text/plain": [
       "{'yellow block': {'box': [117.53901672363281,\n",
       "   13.80767822265625,\n",
       "   132.5946807861328,\n",
       "   31.584264755249023],\n",
       "  'coordinates': [125.06684875488281, 22.695972442626953],\n",
       "  'normalized_coordinates': [0.6100821890482089, 0.11071206069574123]},\n",
       " 'red block on the left': {'box': [74.45423889160156,\n",
       "   27.625572204589844,\n",
       "   89.98896789550781,\n",
       "   43.78565979003906],\n",
       "  'coordinates': [82.22160339355469, 35.70561599731445],\n",
       "  'normalized_coordinates': [0.4010809921636814, 0.17417373657226562]},\n",
       " 'red block on the right': {'box': [93.52734375,\n",
       "   71.56336212158203,\n",
       "   107.8337173461914,\n",
       "   85.76433563232422],\n",
       "  'coordinates': [100.68052673339844, 78.66384887695312],\n",
       "  'normalized_coordinates': [0.4911245206507241, 0.38372609208269814]},\n",
       " 'uid_path': '/data/zhao/Codes/RLBench/examples/uids/7d42bfda-488c-4482-bc22-be62dd9f158e.jpg'}"
      ]
     },
     "execution_count": 2,
     "metadata": {},
     "output_type": "execute_result"
    }
   ],
   "source": [
    "import requests\n",
    "import json\n",
    "\n",
    "addr = \"http://134.100.10.107:8848/api/vild\"\n",
    "\n",
    "# prepare headers for http request\n",
    "content_type = \"application/json\"\n",
    "headers = {\"content-type\": content_type}\n",
    "\n",
    "data = {\n",
    "    \"image_path\": \"/informatik3/wtm/home/zhao/Codes/RLBench/examples/image.jpg\",\n",
    "    \"category_names\": [\n",
    "        \"red block\",\n",
    "        \"blood colored block\",\n",
    "        \"green block\",\n",
    "        \"blue block\",\n",
    "        \"orange block\",\n",
    "        \"yellow block\",\n",
    "        \"purple block\",\n",
    "    ],\n",
    "    \"detection_path\":\"./uids\",\n",
    "    \"plot_on\":True\n",
    "}\n",
    "data = json.dumps(data)\n",
    "response = requests.post(addr, data=data, headers=headers)\n",
    "# decode response\n",
    "json.loads(response.text)\n"
   ]
  },
  {
   "cell_type": "code",
   "execution_count": null,
   "metadata": {},
   "outputs": [],
   "source": [
    "from sound_module import SoundClassifier\n",
    "\n",
    "sc = SoundClassifier(data_path='/informatik3/wtm/home/zhao/Codes/material_sounds', ignore=['fibre',])\n",
    "sc.offline_test()"
   ]
  },
  {
   "attachments": {},
   "cell_type": "markdown",
   "metadata": {},
   "source": []
  }
 ],
 "metadata": {
  "kernelspec": {
   "display_name": "saycan",
   "language": "python",
   "name": "python3"
  },
  "language_info": {
   "codemirror_mode": {
    "name": "ipython",
    "version": 3
   },
   "file_extension": ".py",
   "mimetype": "text/x-python",
   "name": "python",
   "nbconvert_exporter": "python",
   "pygments_lexer": "ipython3",
   "version": "3.8.16"
  },
  "orig_nbformat": 4,
  "vscode": {
   "interpreter": {
    "hash": "5a97e3a3267419142dfd892aa7744bdd42cff9424aff4775bd56c686eea944ec"
   }
  }
 },
 "nbformat": 4,
 "nbformat_minor": 2
}
